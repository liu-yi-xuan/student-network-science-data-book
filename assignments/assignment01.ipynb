{
 "cells": [
  {
   "cell_type": "markdown",
   "id": "5786a689-a060-4ad1-a73b-aac53ac118ee",
   "metadata": {},
   "source": [
    "# Assignment 01"
   ]
  },
  {
   "cell_type": "code",
   "execution_count": 85,
   "id": "57c86dce-bc9c-47a4-8e70-d0f2f25bff18",
   "metadata": {},
   "outputs": [],
   "source": [
    "import networkx as nx\n",
    "import numpy as np\n",
    "import pandas as pd\n",
    "import requests\n",
    "import random\n",
    "import zipfile\n",
    "import os\n",
    "import io\n",
    "import matplotlib.pyplot as plt\n",
    "from scipy.io import mmread\n",
    "from bs4 import BeautifulSoup\n",
    "random.seed(456)"
   ]
  },
  {
   "cell_type": "markdown",
   "id": "3ea8e456-085a-47d5-9f82-06862aa01cee",
   "metadata": {},
   "source": [
    "## Question 3"
   ]
  },
  {
   "cell_type": "markdown",
   "id": "fbfee802-21ff-43f7-bf57-022a29188030",
   "metadata": {},
   "source": [
    "### Choice: Katz centrality"
   ]
  },
  {
   "cell_type": "markdown",
   "id": "6569f1df-481b-43f2-a83f-96f3d0d1010b",
   "metadata": {},
   "source": [
    "**(a)** Write a function to compute a single node's centrality in a network"
   ]
  },
  {
   "cell_type": "code",
   "execution_count": 2,
   "id": "4acd9346-fa0d-4588-a61b-2843b7f19660",
   "metadata": {},
   "outputs": [],
   "source": [
    "def compute_katz_centrality(G, n, alpha=0.001, beta=1.0, max_iter=1000, tol=1e-6):\n",
    "    \"\"\"\n",
    "    Compute the Katz centrality for a single node n in graph G.\n",
    "    \n",
    "    Parameters:\n",
    "    - G: NetworkX graph (Graph or DiGraph)\n",
    "    - n: node in G\n",
    "    - alpha: attenuation factor (float)\n",
    "    - beta: initial centrality value (float)\n",
    "    - max_iter: maximum number of iterations (int)\n",
    "    - tol: tolerance for convergence (float)\n",
    "    \n",
    "    Returns:\n",
    "    - centrality value for node n (float)\n",
    "    \"\"\"\n",
    "    try:\n",
    "        A = nx.adjacency_matrix(G)\n",
    "    except Exception as e:\n",
    "        raise ValueError(\"Failed to compute adjacency matrix.\") from e\n",
    "    \n",
    "    # Alpha should be less the reciprocal of the largest eigenvalue\n",
    "    try:\n",
    "        eigenvalues = np.linalg.eigvals(A.toarray())\n",
    "        max_eigenvalue = max(abs(eigenvalues))\n",
    "        if max_eigenvalue == 0:\n",
    "            raise ValueError(\"Adjacency matrix has zero eigenvalue. Cannot compute Katz centrality.\")\n",
    "    except Exception as e:\n",
    "        raise ValueError(\"Failed to compute eigenvalues of the adjacency matrix\") from e\n",
    "    \n",
    "    if alpha >= 1 / max_eigenvalue:\n",
    "        raise ValueError(f\"Alpha must be less than {1 / max_eigenvalue:.4f}.\")\n",
    "    \n",
    "    # Initialize centrality vector\n",
    "    n_nodes = G.number_of_nodes()\n",
    "    x = np.ones(n_nodes)\n",
    "    ones = np.ones(n_nodes)\n",
    "    node_list = list(G.nodes())\n",
    "    node_index = {node: idx for idx, node in enumerate(node_list)}\n",
    "    \n",
    "    for i in range(max_iter):\n",
    "        x_old = x.copy()\n",
    "        x = alpha * A.dot(x) + beta * ones\n",
    "        # Check for convergence\n",
    "        if np.linalg.norm(x - x_old, ord=1) < tol:\n",
    "            break\n",
    "    else:\n",
    "        raise ValueError(\"Katz centrality failed to converge\")\n",
    "    \n",
    "    idx = node_index[n]\n",
    "    return x[idx]\n"
   ]
  },
  {
   "cell_type": "code",
   "execution_count": 3,
   "id": "fad4fe00-924d-4cc9-8d5d-23a5fdf458d5",
   "metadata": {},
   "outputs": [],
   "source": [
    "G_er=nx.erdos_renyi_graph(500,0.5)\n",
    "G_ba=nx.barabasi_albert_graph(500,3)\n",
    "G_ws=nx.watts_strogatz_graph(500,10,0.5)\n",
    "G_lb=nx.random_lobster(500,0.3,0.4)"
   ]
  },
  {
   "cell_type": "code",
   "execution_count": 4,
   "id": "d8a34cc4-5a79-45d0-830b-4934ec3b24dc",
   "metadata": {},
   "outputs": [
    {
     "data": {
      "text/plain": [
       "1.054586458848552"
      ]
     },
     "execution_count": 4,
     "metadata": {},
     "output_type": "execute_result"
    }
   ],
   "source": [
    "compute_katz_centrality(G_ba,3)"
   ]
  },
  {
   "cell_type": "markdown",
   "id": "558b47f8-4d3c-4216-b6c1-a160b6fc26aa",
   "metadata": {},
   "source": [
    "**(b)** Augment with error handling:\n",
    "\n",
    "i. A node that is not in the graph\n",
    "\n",
    "ii. A graph that is not a networkx object\n",
    "\n",
    "iii. A graph with no connectivity (or not enough connectivity to produce a valid\n",
    "centrality result)\n",
    "\n",
    "iv. Any situation that might produce numerical difficulties (e.g. dividing by\n",
    "zero) for your chosen centrality measure"
   ]
  },
  {
   "cell_type": "code",
   "execution_count": 48,
   "id": "65f677d2-a744-4967-a512-52d8a28b8904",
   "metadata": {},
   "outputs": [],
   "source": [
    "def compute_katz_centrality(G, n, alpha=0.1, beta=1.0, max_iter=1000, tol=1e-6):\n",
    "    \"\"\"\n",
    "    Compute the Katz centrality for a single node n in graph G.\n",
    "    \n",
    "    Parameters:\n",
    "    - G: NetworkX graph (Graph or DiGraph)\n",
    "    - n: node in G\n",
    "    - alpha: attenuation factor (float)\n",
    "    - beta: initial centrality value (float)\n",
    "    - max_iter: maximum number of iterations (int)\n",
    "    - tol: tolerance for convergence (float)\n",
    "    \n",
    "    Returns:\n",
    "    - centrality value for node n (float)\n",
    "    \"\"\"\n",
    "    # Error handling:\n",
    "    if not isinstance(G, (nx.Graph, nx.DiGraph)):\n",
    "        raise TypeError(\"G must be a NetworkX graph.\")\n",
    "    if n not in G:\n",
    "        raise ValueError(f\"Node {n} is not in the graph.\")\n",
    "    if G.number_of_nodes() == 0:\n",
    "        raise ValueError(\"Graph has no nodes.\")\n",
    "    if G.number_of_edges() == 0:\n",
    "        print(\"Warning: Graph has no edges. Adjacency matrix is singular.\")\n",
    "    \n",
    "    try:\n",
    "        A = nx.adjacency_matrix(G)\n",
    "    except Exception as e:\n",
    "        raise ValueError(\"Failed to compute adjacency matrix.\") from e\n",
    "    \n",
    "    # Alpha should be less the reciprocal of the largest eigenvalue\n",
    "    try:\n",
    "        eigenvalues = np.linalg.eigvals(A.toarray())\n",
    "        max_eigenvalue = max(abs(eigenvalues))\n",
    "        if max_eigenvalue == 0:\n",
    "            raise ValueError(\"Adjacency matrix has zero eigenvalue. Cannot compute Katz centrality.\")\n",
    "    except Exception as e:\n",
    "        raise ValueError(\"Failed to compute eigenvalues of the adjacency matrix\") from e\n",
    "    \n",
    "    if alpha >= 1 / max_eigenvalue:\n",
    "        raise ValueError(f\"Alpha must be less than {1 / max_eigenvalue:.4f}.\")\n",
    "    \n",
    "    # Initialize centrality vector\n",
    "    n_nodes = G.number_of_nodes()\n",
    "    x = np.ones(n_nodes)\n",
    "    ones = np.ones(n_nodes)\n",
    "    node_list = list(G.nodes())\n",
    "    node_index = {node: idx for idx, node in enumerate(node_list)}\n",
    "    \n",
    "    for i in range(max_iter):\n",
    "        x_old = x.copy()\n",
    "        x = alpha * A.dot(x) + beta * ones\n",
    "        # Check for convergence\n",
    "        if np.linalg.norm(x - x_old, ord=1) < tol:\n",
    "            break\n",
    "    else:\n",
    "        raise ValueError(\"Katz centrality failed to converge\")    \n",
    "    idx = node_index[n]\n",
    "    return x[idx]\n"
   ]
  },
  {
   "cell_type": "markdown",
   "id": "a634c21a-9a8d-4a34-bf8b-8783ea12ecc4",
   "metadata": {},
   "source": [
    "**(c)** Compare with networkx function"
   ]
  },
  {
   "cell_type": "code",
   "execution_count": 45,
   "id": "9026665f-5df0-46fd-934f-a29508466ca2",
   "metadata": {},
   "outputs": [],
   "source": [
    "graphs = {}\n",
    "\n",
    "G1 = nx.path_graph(5)\n",
    "graphs['Path Graph'] = G1\n",
    "\n",
    "# Disconnected\n",
    "G2 = nx.Graph()\n",
    "G2.add_nodes_from([1, 2, 3, 4, 5])\n",
    "G2.add_edges_from([(1, 2), (3, 4)])\n",
    "graphs['Disconnected Graph'] = G2\n",
    "\n",
    "# Empty\n",
    "G3 = nx.Graph()\n",
    "graphs['Empty Graph'] = G3\n",
    "\n",
    "# Single node\n",
    "G4 = nx.Graph()\n",
    "G4.add_node(1)\n",
    "graphs['Single Node Graph'] = G4\n",
    "\n",
    "# Complete\n",
    "G5 = nx.complete_graph(5)\n",
    "graphs['Complete Graph'] = G5\n",
    "\n",
    "# self-loop\n",
    "G6 = nx.Graph()\n",
    "G6.add_edge(1, 1)\n",
    "G6.add_edge(1, 2)\n",
    "G6.add_edge(2, 3)\n",
    "graphs['Graph with Self-loop'] = G6\n"
   ]
  },
  {
   "cell_type": "code",
   "execution_count": 46,
   "id": "a38e7bb1-cb5e-4bb3-86f6-4b4c74007923",
   "metadata": {},
   "outputs": [
    {
     "name": "stdout",
     "output_type": "stream",
     "text": [
      "Testing Path Graph\n",
      "Node 0: Our result = 1.123711321, NetworkX result = 1.12371124\n",
      "Node 1: Our result = 1.237113372, NetworkX result = 1.23711321\n",
      "Node 2: Our result = 1.247422642, NetworkX result = 1.24742248\n",
      "Node 3: Our result = 1.237113372, NetworkX result = 1.23711321\n",
      "Node 4: Our result = 1.123711321, NetworkX result = 1.12371124\n",
      "\n",
      "Testing Disconnected Graph\n",
      "Node 1: Our result = 1.1111111, NetworkX result = 1.111111\n",
      "Node 2: Our result = 1.1111111, NetworkX result = 1.111111\n",
      "Node 3: Our result = 1.1111111, NetworkX result = 1.111111\n",
      "Node 4: Our result = 1.1111111, NetworkX result = 1.111111\n",
      "Node 5: Our result = 1.0, NetworkX result = 1.0\n",
      "\n",
      "Testing Empty Graph\n",
      "\n",
      "Testing Single Node Graph\n",
      "Warning: Graph has no edges. Katz centrality will be trivial.\n",
      "Node 1: Our result = Failed to compute eigenvalues of the adjacency matrix, NetworkX result = 1.0\n",
      "\n",
      "Testing Complete Graph\n",
      "Node 0: Our result = 1.6666665521342054, NetworkX result = 1.6666663803355135\n",
      "Node 1: Our result = 1.6666665521342054, NetworkX result = 1.6666663803355135\n",
      "Node 2: Our result = 1.6666665521342054, NetworkX result = 1.6666663803355135\n",
      "Node 3: Our result = 1.6666665521342054, NetworkX result = 1.6666663803355135\n",
      "Node 4: Our result = 1.6666665521342054, NetworkX result = 1.6666663803355135\n",
      "\n",
      "Testing Graph with Self-loop\n",
      "Node 1: Our result = 1.248581104, NetworkX result = 1.248581104\n",
      "Node 2: Our result = 1.237230377, NetworkX result = 1.237230377\n",
      "Node 3: Our result = 1.123723018, NetworkX result = 1.123723018\n",
      "\n"
     ]
    }
   ],
   "source": [
    "for name, G in graphs.items():\n",
    "    print(f\"Testing {name}\")\n",
    "    nodes = G.nodes()\n",
    "    try:\n",
    "        nx_katz = nx.katz_centrality(G, alpha=0.1, beta=1.0, max_iter=1000, tol=1e-6, normalized=False)\n",
    "    except Exception as e:\n",
    "        nx_katz = {}\n",
    "        print(f\"NetworkX Katz centrality failed: {e}\")\n",
    "    \n",
    "    for n in nodes:\n",
    "        try:\n",
    "            our_result = compute_katz_centrality(G, n)\n",
    "        except Exception as e:\n",
    "            our_result = str(e)\n",
    "        nx_result = nx_katz.get(n, \"Exception\")\n",
    "        print(f\"Node {n}: Our result = {our_result}, NetworkX result = {nx_result}\")\n",
    "    print()"
   ]
  },
  {
   "cell_type": "markdown",
   "id": "3d65631b-e06a-4e5d-bd37-e38a1b585a1b",
   "metadata": {},
   "source": [
    "**(d)** Write **tests** function"
   ]
  },
  {
   "cell_type": "code",
   "execution_count": 60,
   "id": "1a364b2b-352a-41e8-a399-c167dcb09f68",
   "metadata": {},
   "outputs": [],
   "source": [
    "def test_centrality_function(centrality_func,networkx_centrality_func):\n",
    "    graphs = {}\n",
    "    \n",
    "    # connected\n",
    "    G1 = nx.path_graph(5)\n",
    "    graphs['Path Graph'] = G1\n",
    "    \n",
    "    # diconnected\n",
    "    G2 = nx.Graph()\n",
    "    G2.add_nodes_from([1, 2, 3, 4, 5])\n",
    "    G2.add_edges_from([(1, 2), (3, 4)])\n",
    "    graphs['Disconnected Graph'] = G2\n",
    "    \n",
    "    # empty\n",
    "    G3 = nx.Graph()\n",
    "    graphs['Empty Graph'] = G3\n",
    "    \n",
    "    # single node\n",
    "    G4 = nx.Graph()\n",
    "    G4.add_node(1)\n",
    "    graphs['Single Node Graph'] = G4\n",
    "    \n",
    "    # complete\n",
    "    G5 = nx.complete_graph(5)\n",
    "    graphs['Complete Graph'] = G5\n",
    "    \n",
    "    # self-loop\n",
    "    G6 = nx.Graph()\n",
    "    G6.add_edge(1, 1)\n",
    "    G6.add_edge(1, 2)\n",
    "    G6.add_edge(2, 3)\n",
    "    graphs['Graph with Self-loop'] = G6\n",
    "    \n",
    "    for name, G in graphs.items():\n",
    "        print(f\"Testing {name}\")\n",
    "        nodes = G.nodes()\n",
    "        if len(nodes) ==0:\n",
    "            print(f\"This is an empty graph\")\n",
    "            print()\n",
    "        else:\n",
    "            try:\n",
    "                nx_katz = networkx_centrality_func(\n",
    "                    G, alpha=0.1, beta=1.0, max_iter=1000, tol=1e-6, normalized=False\n",
    "                )\n",
    "            except Exception as e:\n",
    "                nx_katz = {}\n",
    "                print(f\"NetworkX Katz centrality failed: {e}\")\n",
    "            \n",
    "            for n in nodes:\n",
    "                try:\n",
    "                    our_result = centrality_func(\n",
    "                        G, n, alpha=0.1, beta=1.0, max_iter=1000, tol=1e-6\n",
    "                    )\n",
    "                except Exception as e:\n",
    "                    our_result = str(e)\n",
    "                nx_result = nx_katz.get(n, \"Exception\")\n",
    "                print(f\"Node {n}: Our result = {our_result}, NetworkX result = {nx_result}\")\n",
    "            print()\n"
   ]
  },
  {
   "cell_type": "code",
   "execution_count": 61,
   "id": "06112672-7dd6-4e4a-9378-9bf4baab2dce",
   "metadata": {},
   "outputs": [
    {
     "name": "stdout",
     "output_type": "stream",
     "text": [
      "Testing Path Graph\n",
      "Node 0: Our result = 1.123711321, NetworkX result = 1.12371124\n",
      "Node 1: Our result = 1.237113372, NetworkX result = 1.23711321\n",
      "Node 2: Our result = 1.247422642, NetworkX result = 1.24742248\n",
      "Node 3: Our result = 1.237113372, NetworkX result = 1.23711321\n",
      "Node 4: Our result = 1.123711321, NetworkX result = 1.12371124\n",
      "\n",
      "Testing Disconnected Graph\n",
      "Node 1: Our result = 1.1111111, NetworkX result = 1.111111\n",
      "Node 2: Our result = 1.1111111, NetworkX result = 1.111111\n",
      "Node 3: Our result = 1.1111111, NetworkX result = 1.111111\n",
      "Node 4: Our result = 1.1111111, NetworkX result = 1.111111\n",
      "Node 5: Our result = 1.0, NetworkX result = 1.0\n",
      "\n",
      "Testing Empty Graph\n",
      "This is an empty graph\n",
      "\n",
      "Testing Single Node Graph\n",
      "Warning: Graph has no edges. Adjacency matrix is singular.\n",
      "Node 1: Our result = Failed to compute eigenvalues of the adjacency matrix, NetworkX result = 1.0\n",
      "\n",
      "Testing Complete Graph\n",
      "Node 0: Our result = 1.6666665521342054, NetworkX result = 1.6666663803355135\n",
      "Node 1: Our result = 1.6666665521342054, NetworkX result = 1.6666663803355135\n",
      "Node 2: Our result = 1.6666665521342054, NetworkX result = 1.6666663803355135\n",
      "Node 3: Our result = 1.6666665521342054, NetworkX result = 1.6666663803355135\n",
      "Node 4: Our result = 1.6666665521342054, NetworkX result = 1.6666663803355135\n",
      "\n",
      "Testing Graph with Self-loop\n",
      "Node 1: Our result = 1.248581104, NetworkX result = 1.248581104\n",
      "Node 2: Our result = 1.237230377, NetworkX result = 1.237230377\n",
      "Node 3: Our result = 1.123723018, NetworkX result = 1.123723018\n",
      "\n"
     ]
    }
   ],
   "source": [
    "test_centrality_function(compute_katz_centrality,nx.katz_centrality)"
   ]
  },
  {
   "cell_type": "markdown",
   "id": "bca6871b-c568-4933-bd64-901713ecb916",
   "metadata": {},
   "source": [
    "## Question 4"
   ]
  },
  {
   "cell_type": "markdown",
   "id": "d2e5d426-61ed-4558-bf8a-1a3c287d7560",
   "metadata": {},
   "source": [
    "### Construct a DAG (directed acyclic graph) of the curriculum"
   ]
  },
  {
   "cell_type": "code",
   "execution_count": null,
   "id": "f229c8dd-157f-4b8d-9d2e-b36b2168b9a0",
   "metadata": {},
   "outputs": [],
   "source": []
  },
  {
   "cell_type": "code",
   "execution_count": 75,
   "id": "65039d13-a515-4e42-94d9-0fc2344c1f70",
   "metadata": {},
   "outputs": [
    {
     "name": "stdout",
     "output_type": "stream",
     "text": [
      "\n",
      " Finally, we can get the link and its href (the partial URL that points to the accounting courses):\n",
      "/course-descriptions/acct/\n"
     ]
    }
   ],
   "source": [
    "catalog_res = requests.get('https://catalog.northeastern.edu/course-descriptions/')\n",
    "catalog_html = catalog_res.text\n",
    "soup = BeautifulSoup(catalog_html)\n",
    "soup_alpha_div = soup.find('div', id=\"atozindex\")\n",
    "first_ul = soup_alpha_div.find('ul')\n",
    "first_bullet = first_ul.find('li')\n",
    "print('\\n Finally, we can get the link and its href (the partial URL that points to the accounting courses):')\n",
    "print(first_bullet.a.get('href'))"
   ]
  },
  {
   "cell_type": "code",
   "execution_count": 76,
   "id": "ab76239d-679f-4891-b80a-ce0caa6c1c78",
   "metadata": {},
   "outputs": [],
   "source": [
    "department_hrefs = []\n",
    "for ul in soup_alpha_div.find_all('ul'):\n",
    "    for li in ul.find_all('li'):\n",
    "        department_hrefs.append(li.a.get('href'))"
   ]
  },
  {
   "cell_type": "code",
   "execution_count": 86,
   "id": "5dd8b367-fe41-48c2-a477-59e039b80a27",
   "metadata": {},
   "outputs": [
    {
     "name": "stdout",
     "output_type": "stream",
     "text": [
      "https://catalog.northeastern.edu/course-descriptions/pols/\n"
     ]
    }
   ],
   "source": [
    "my_href = random.choice(department_hrefs)\n",
    "\n",
    "my_full_url = 'https://catalog.northeastern.edu' + my_href\n",
    "print(my_full_url)\n",
    "dept_html = requests.get(my_full_url).text"
   ]
  },
  {
   "cell_type": "code",
   "execution_count": 87,
   "id": "a2a76d39-892e-46f0-9c68-b40d00bd872b",
   "metadata": {},
   "outputs": [],
   "source": [
    "def get_course_titles_and_descriptions(dept_html):\n",
    "    descriptions=[] \n",
    "    course_list=[]\n",
    "    soup = BeautifulSoup(dept_html)\n",
    "    site_title_dept = soup.find('div', id=\"site-title\")\n",
    "    courses=soup.find('div',id='textcontainer')\n",
    "    course_elements = soup.select('#textcontainer > div > div > p.courseblocktitle.noindent > strong')\n",
    "    description_elements = soup.select('#textcontainer > div > div > p.cb_desc')\n",
    "    for course, description in zip(course_elements, description_elements):\n",
    "        course_list.append(course.get_text(strip=True))\n",
    "        descriptions.append(description.get_text(strip=True))\n",
    "    courses_df = pd.DataFrame({\n",
    "        'course': course_list,\n",
    "        'description': descriptions\n",
    "    })\n",
    "    return site_title_dept,courses_df"
   ]
  },
  {
   "cell_type": "code",
   "execution_count": 88,
   "id": "58561ca6-a3cf-40ee-b4dd-4a7001a6c087",
   "metadata": {},
   "outputs": [
    {
     "data": {
      "text/html": [
       "<div>\n",
       "<style scoped>\n",
       "    .dataframe tbody tr th:only-of-type {\n",
       "        vertical-align: middle;\n",
       "    }\n",
       "\n",
       "    .dataframe tbody tr th {\n",
       "        vertical-align: top;\n",
       "    }\n",
       "\n",
       "    .dataframe thead th {\n",
       "        text-align: right;\n",
       "    }\n",
       "</style>\n",
       "<table border=\"1\" class=\"dataframe\">\n",
       "  <thead>\n",
       "    <tr style=\"text-align: right;\">\n",
       "      <th></th>\n",
       "      <th>course</th>\n",
       "      <th>description</th>\n",
       "    </tr>\n",
       "  </thead>\n",
       "  <tbody>\n",
       "    <tr>\n",
       "      <th>106</th>\n",
       "      <td>POLS 9000.  PhD Candidacy Achieved.  (0 Hours)</td>\n",
       "      <td>Indicates successful completion of the doctora...</td>\n",
       "    </tr>\n",
       "    <tr>\n",
       "      <th>107</th>\n",
       "      <td>POLS 9986.  Research.  (0 Hours)</td>\n",
       "      <td>Offers an opportunity to conduct full-time res...</td>\n",
       "    </tr>\n",
       "    <tr>\n",
       "      <th>108</th>\n",
       "      <td>POLS 9990.  Dissertation Term 1.  (0 Hours)</td>\n",
       "      <td>Offers dissertation supervision by individual ...</td>\n",
       "    </tr>\n",
       "    <tr>\n",
       "      <th>109</th>\n",
       "      <td>POLS 9991.  Dissertation Term 2.  (0 Hours)</td>\n",
       "      <td>Offers dissertation supervision by members of ...</td>\n",
       "    </tr>\n",
       "    <tr>\n",
       "      <th>110</th>\n",
       "      <td>POLS 9996.  Dissertation Continuation.  (0 Hours)</td>\n",
       "      <td>Offers continued dissertation supervision by i...</td>\n",
       "    </tr>\n",
       "  </tbody>\n",
       "</table>\n",
       "</div>"
      ],
      "text/plain": [
       "                                                course  \\\n",
       "106     POLS 9000.  PhD Candidacy Achieved.  (0 Hours)   \n",
       "107                   POLS 9986.  Research.  (0 Hours)   \n",
       "108        POLS 9990.  Dissertation Term 1.  (0 Hours)   \n",
       "109        POLS 9991.  Dissertation Term 2.  (0 Hours)   \n",
       "110  POLS 9996.  Dissertation Continuation.  (0 Hours)   \n",
       "\n",
       "                                           description  \n",
       "106  Indicates successful completion of the doctora...  \n",
       "107  Offers an opportunity to conduct full-time res...  \n",
       "108  Offers dissertation supervision by individual ...  \n",
       "109  Offers dissertation supervision by members of ...  \n",
       "110  Offers continued dissertation supervision by i...  "
      ]
     },
     "execution_count": 88,
     "metadata": {},
     "output_type": "execute_result"
    }
   ],
   "source": [
    "site_title_dept, courses_df=get_course_titles_and_descriptions(dept_html)\n",
    "courses_df.tail()"
   ]
  },
  {
   "cell_type": "code",
   "execution_count": null,
   "id": "deb20e9e-fa3b-4b82-8bbc-29256ae3adbc",
   "metadata": {},
   "outputs": [],
   "source": []
  },
  {
   "cell_type": "markdown",
   "id": "d5a11a81-989e-4967-ac46-cdd79c61dd38",
   "metadata": {},
   "source": [
    "**(a)** Scrape prerequisite of each course"
   ]
  },
  {
   "cell_type": "code",
   "execution_count": null,
   "id": "691db194-0fa4-4707-a211-801cfca760c7",
   "metadata": {},
   "outputs": [],
   "source": []
  },
  {
   "cell_type": "code",
   "execution_count": null,
   "id": "5972981b-d366-40a4-a8f6-ba953a4d5cec",
   "metadata": {},
   "outputs": [],
   "source": []
  },
  {
   "cell_type": "code",
   "execution_count": null,
   "id": "8325133e-58e9-4788-871b-c788c917e7c8",
   "metadata": {},
   "outputs": [],
   "source": []
  },
  {
   "cell_type": "code",
   "execution_count": null,
   "id": "25072b1a-d26e-423d-87ec-6ca78dd45f48",
   "metadata": {},
   "outputs": [],
   "source": []
  },
  {
   "cell_type": "code",
   "execution_count": null,
   "id": "f1d4de97-e3d2-45a3-9568-c31e8ed6c9e3",
   "metadata": {},
   "outputs": [],
   "source": []
  },
  {
   "cell_type": "code",
   "execution_count": null,
   "id": "d9f66629-758e-44c0-b138-10a1c57e5d83",
   "metadata": {},
   "outputs": [],
   "source": []
  },
  {
   "cell_type": "code",
   "execution_count": null,
   "id": "d162133e-e1c9-49b1-8bbc-fd260001122d",
   "metadata": {},
   "outputs": [],
   "source": []
  },
  {
   "cell_type": "markdown",
   "id": "4250100f-053f-45a1-8fb9-9c50b1776f4b",
   "metadata": {},
   "source": [
    "**(b)**"
   ]
  },
  {
   "cell_type": "code",
   "execution_count": null,
   "id": "d910c287-e88c-4c0d-b392-26286d693af3",
   "metadata": {},
   "outputs": [],
   "source": []
  },
  {
   "cell_type": "markdown",
   "id": "fdb92629-0b71-4f74-9a15-29008a29fdb2",
   "metadata": {},
   "source": [
    "## Question 5"
   ]
  },
  {
   "cell_type": "markdown",
   "id": "8ede3a41-185c-492c-b7fe-333b4a670998",
   "metadata": {},
   "source": [
    "Choice: download the data of Minnesota road network"
   ]
  },
  {
   "cell_type": "code",
   "execution_count": null,
   "id": "1003d84f-dc09-4e37-9944-5ee2c4d593e6",
   "metadata": {},
   "outputs": [],
   "source": []
  },
  {
   "cell_type": "code",
   "execution_count": null,
   "id": "ec58e50f-e17c-46a2-a6bc-1a7e3280eff5",
   "metadata": {},
   "outputs": [],
   "source": []
  },
  {
   "cell_type": "code",
   "execution_count": 68,
   "id": "a8c588d3-c019-4146-9674-82b0f4dfb426",
   "metadata": {},
   "outputs": [],
   "source": [
    "url = \"https://nrvis.com/download/data/road/road-minnesota.zip\"\n",
    "response = requests.get(url)\n",
    "response.raise_for_status() \n",
    "with zipfile.ZipFile(io.BytesIO(response.content)) as thezip:\n",
    "    mtx_filename = next((f for f in thezip.namelist() if f.endswith('.mtx')), None)\n",
    "    if mtx_filename is None:\n",
    "        raise FileNotFoundError(\"No .mtx file found in the ZIP archive.\")\n",
    "    with thezip.open(mtx_filename) as mtx_file:\n",
    "        adjacency_matrix = mmread(mtx_file)\n",
    "G = nx.from_scipy_sparse_array(adjacency_matrix)"
   ]
  },
  {
   "cell_type": "markdown",
   "id": "f359a62c-aec4-475b-ad89-c11d85281df8",
   "metadata": {},
   "source": [
    "**(b)** Compare with randomized network"
   ]
  },
  {
   "cell_type": "code",
   "execution_count": 69,
   "id": "89e08cb3-53f2-4bb8-afd3-077c16e2ee57",
   "metadata": {},
   "outputs": [],
   "source": [
    "# degree-preserving randomization\n",
    "degree_sequence = [d for n, d in G.degree()]\n",
    "G_random = nx.configuration_model(degree_sequence)\n",
    "G_random = nx.Graph(G_random)\n",
    "G_random.remove_edges_from(nx.selfloop_edges(G_random))"
   ]
  },
  {
   "cell_type": "code",
   "execution_count": 70,
   "id": "1d3ea01b-82a3-4086-86d9-e94645f814c2",
   "metadata": {},
   "outputs": [
    {
     "data": {
      "image/png": "[encoded data removed]",
      "text/plain": [
       "<Figure size 1800x500 with 3 Axes>"
      ]
     },
     "metadata": {},
     "output_type": "display_data"
    }
   ],
   "source": [
    "# Original network:\n",
    "degree_sequence = [d for n, d in G.degree()]\n",
    "clustering_coeffs = list(nx.clustering(G).values())\n",
    "betweenness_centrality = list(nx.betweenness_centrality(G).values())\n",
    "\n",
    "fig, axes = plt.subplots(1, 3, figsize=(18, 5))\n",
    "axes[0].hist(degree_sequence, bins=range(1, max(degree_sequence)+1), edgecolor='black', log=True)\n",
    "axes[0].set_title('Degree Distribution (Original Network)')\n",
    "axes[0].set_xlabel('Degree')\n",
    "axes[0].set_ylabel('Frequency (log scale)')\n",
    "axes[1].hist(clustering_coeffs, bins=30, edgecolor='black')\n",
    "axes[1].set_title('Clustering Coefficient Distribution (Original Network)')\n",
    "axes[1].set_xlabel('Clustering Coefficient')\n",
    "axes[1].set_ylabel('Frequency')\n",
    "axes[2].hist(betweenness_centrality, bins=30, edgecolor='black')\n",
    "axes[2].set_title('Betweenness Centrality Distribution (Original Network)')\n",
    "axes[2].set_xlabel('Betweenness Centrality')\n",
    "axes[2].set_ylabel('Frequency')\n",
    "\n",
    "plt.tight_layout()\n",
    "plt.show()"
   ]
  },
  {
   "cell_type": "code",
   "execution_count": 71,
   "id": "ae3992d2-2d66-4e68-b1f4-efe904667bf6",
   "metadata": {},
   "outputs": [
    {
     "data": {
      "image/png": "[encoded data removed]",
      "text/plain": [
       "<Figure size 1800x500 with 3 Axes>"
      ]
     },
     "metadata": {},
     "output_type": "display_data"
    }
   ],
   "source": [
    "# Configuration model\n",
    "degree_sequence_random = [d for n, d in G_random.degree()]\n",
    "clustering_coeffs_random = list(nx.clustering(G_random).values())\n",
    "betweenness_centrality_random = list(nx.betweenness_centrality(G_random).values())\n",
    "\n",
    "\n",
    "fig, axes = plt.subplots(1, 3, figsize=(18, 5))\n",
    "axes[0].hist(degree_sequence_random, bins=range(1, max(degree_sequence_random)+1), edgecolor='black', log=True)\n",
    "axes[0].set_title('Degree Distribution (Randomized Network)')\n",
    "axes[0].set_xlabel('Degree')\n",
    "axes[0].set_ylabel('Frequency (log scale)')\n",
    "axes[1].hist(clustering_coeffs_random, bins=30, edgecolor='black')\n",
    "axes[1].set_title('Clustering Coefficient Distribution (Randomized Network)')\n",
    "axes[1].set_xlabel('Clustering Coefficient')\n",
    "axes[1].set_ylabel('Frequency')\n",
    "axes[2].hist(betweenness_centrality_random, bins=30, edgecolor='black')\n",
    "axes[2].set_title('Betweenness Centrality Distribution (Randomized Network)')\n",
    "axes[2].set_xlabel('Betweenness Centrality')\n",
    "axes[2].set_ylabel('Frequency')\n",
    "\n",
    "plt.tight_layout()\n",
    "plt.show()"
   ]
  },
  {
   "cell_type": "code",
   "execution_count": null,
   "id": "810d5622-60dd-447f-89a9-4bdaca01de17",
   "metadata": {},
   "outputs": [],
   "source": []
  }
 ],
 "metadata": {
  "kernelspec": {
   "display_name": "Python 3 (ipykernel)",
   "language": "python",
   "name": "python3"
  },
  "language_info": {
   "codemirror_mode": {
    "name": "ipython",
    "version": 3
   },
   "file_extension": ".py",
   "mimetype": "text/x-python",
   "name": "python",
   "nbconvert_exporter": "python",
   "pygments_lexer": "ipython3",
   "version": "3.12.4"
  }
 },
 "nbformat": 4,
 "nbformat_minor": 5
}
