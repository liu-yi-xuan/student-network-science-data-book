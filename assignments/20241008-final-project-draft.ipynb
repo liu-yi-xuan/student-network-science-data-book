{
 "cells": [
  {
   "cell_type": "markdown",
   "id": "4cfba8ec-1fcb-469d-b47c-831f1b0d9f6f",
   "metadata": {},
   "source": [
    "# Network Optimization\n",
    "- Final Project for Network Science Data (PHYS 7332)\n",
    "- Semeseter: Fall 2024\n",
    "- Name: Minami Ueda"
   ]
  },
  {
   "cell_type": "markdown",
   "id": "dd4bf73e-a7ee-4761-841e-5d447268ef25",
   "metadata": {},
   "source": [
    "***\n",
    "## 1. Introduction\n",
    "### Overview of Network Optimization\n",
    "\n",
    "- Definition of Network Optimization\n",
    "- Relevance in Network Science\n",
    "    - Role of optimization in analyzing and improving network \n",
    "- Real-world applications\n",
    "    - Examples in transportation, communication, and logistics networks.\n",
    "\n",
    "### Objectives of the Chapter\n",
    "- Understanding the concept of network optimization\n",
    "- Understanding key optimization approaches and algorithms in networks\n",
    "- Applying these concepts through Python implementations\n",
    "\n",
    "\n",
    "### Intoduction of Fundamental Concepts\n",
    "- Basic Network Terminology\n",
    "    - Nodes, edges, paths, flows, capacities\n",
    "- Types of Networks\n",
    "    - directed vs. undirected\n",
    "    - weighted vs. unweighted.\n",
    "- Optimization Problems in Networks\n",
    "    - Flow optimization, cost minimization, sparsification.\n",
    "- Metrics for Network Performance\n",
    "    - Efficiency, robustness, connectivity, and cost.\n"
   ]
  },
  {
   "cell_type": "markdown",
   "id": "0d1532f1-d498-4f65-a804-09cfd03737cb",
   "metadata": {},
   "source": [
    "***\n",
    "## 2. Network Flow Optimization\n",
    "Get introduced to the concept of flow in a network.\n",
    "\n",
    "### Introduction to Network Flows\n",
    "- Definition and Components\n",
    "    - Flow networks, sources, sinks, and capacities.\n",
    "- Real-world Applications\n",
    "    - Traffic flow, data packet routing, supply chains.\n",
    "    - Visualization of flows\n",
    "\n",
    "### Maximum Flow Problem\n",
    "- Problem Statement\n",
    "- Ford-Fulkerson Method\n",
    "    - Concept of Residual Networks\n",
    "    - Finding Augmenting Paths\n",
    "    - Algorithm overview\n",
    "- Python implementation\n",
    "    - Scratch implementation\n",
    "    - NetworkX implementation\n",
    "- Examples with some sample network data\n",
    "\n",
    "\n",
    "### Minimum-Cost Flow Problem\n",
    "- Problem Statement\n",
    "- Algorithm\n",
    "    - Cycle-Canceling Algorithm\n",
    "    - Successive Shortest Path Algorithm\n",
    "- Python Implementation\n",
    "    - Scratch implementation\n",
    "    - NetworkX implementation\n",
    "- Examples with some sample network data\n"
   ]
  },
  {
   "cell_type": "markdown",
   "id": "d6c31168-f1a9-4fe0-afdc-292a63eda117",
   "metadata": {},
   "source": [
    "***\n",
    "## 3. Cost-Efficiency Optimization Models\n",
    "Here, we study a model that also considers the efficiency, in addition to the flow.\n",
    "\n",
    "### Introduction to Ferrer i Cancho and Solé model\n",
    "- balancing efficiency and cost in networks\n",
    "- Introduction to real world example: airport network\n",
    "\n",
    "### Implementation\n",
    "- Introduction to greedy algorithm, hill-climb algorithm\n",
    "\n",
    "### Visualization: Different network structure by lambda\n",
    "- exponential degree distribution to small world, to star-shaped\n",
    "\n",
    "### Examples on synthetic network data\n",
    "\n"
   ]
  },
  {
   "cell_type": "markdown",
   "id": "e7e27ba8-ac70-439c-afb8-bf8cb788d8ff",
   "metadata": {},
   "source": [
    "***\n",
    "## 4. Case Study: Airport Network Optimization\n",
    "Let's try optimizing a network from an actual dataset.\n",
    "\n",
    "### Data Acquisition and Preparation\n",
    "- possible data sources\n",
    "    - US airport network https://ericmjl.github.io/Network-Analysis-Made-Simple/05-casestudies/02-airport/\n",
    "    - Open flights https://openflights.org/data.php\n",
    "\n",
    "### Network Flow Visualization\n",
    "- geographical network plot (airport-to-airport)\n",
    "\n",
    "### Network Flow Optimization\n",
    "- Define objective (e.g., minimize total travel time, reduce operational costs)\n",
    "- Apply some optimiztaion models\n",
    "- Visualize: before-after comparison (e.g., degree distribution, costs, etc)\n",
    "- Discussion"
   ]
  },
  {
   "cell_type": "markdown",
   "id": "2f5da4fd-dfc5-4212-9706-62799d80ba9d",
   "metadata": {
    "jp-MarkdownHeadingCollapsed": true
   },
   "source": [
    "***\n",
    "## 5. Sparse Network Optimization\n",
    "The models we introduced in previous sections focused more on optimizing the path such that achieves a particular objective while utilizing the existing connections in a network. An alternate option to optimize the network is by modifying the network structure itself. Here, in other words, we will remove or add connections in a network.\n",
    "\n",
    "### Introduction to Sparse Networks\n",
    "- can the network structure itself be modified?\n",
    "- network sparsification, summarization\n",
    "- real world applications\n",
    "    - can be suited for large scale networks\n",
    "\n",
    "### Methods of Sparse Network Optimization\n",
    "- k-core Decomposition\n",
    "- other sparsification methods? https://dl.acm.org/doi/abs/10.1145/3186727\n",
    "\n",
    "### Python Implementations of Sparsification\n",
    "- could be scratch for simple algorithms or networkx\n",
    "- before-and-after comparison, visualization\n",
    "    - Changes in connectivity, efficiency\n",
    "    - degree distribution\n",
    "    - clustering coefficient, etc\n",
    "\n",
    "### Discussion\n",
    "- Trade-off of using sparsification methods\n",
    "\n"
   ]
  },
  {
   "cell_type": "markdown",
   "id": "fdddce3e-8283-4f39-aedb-40a8064e1c34",
   "metadata": {},
   "source": [
    "***\n",
    "## 6. Challenges and Limitations in Network Optimization\n",
    "- Scalability\n",
    "    - could be computationaly too complex for large networks\n",
    "- Data limitation in real world\n",
    "- Alternate approaches?"
   ]
  },
  {
   "cell_type": "markdown",
   "id": "b7d10e0b-8316-4aa8-8524-ab9325a58a1b",
   "metadata": {},
   "source": [
    "***\n",
    "## 7. Conclusion\n",
    "- Key takeaways"
   ]
  },
  {
   "cell_type": "markdown",
   "id": "c2ef419f",
   "metadata": {},
   "source": []
  }
 ],
 "metadata": {
  "kernelspec": {
   "display_name": "Python 3 (ipykernel)",
   "language": "python",
   "name": "python3"
  },
  "language_info": {
   "codemirror_mode": {
    "name": "ipython",
    "version": 3
   },
   "file_extension": ".py",
   "mimetype": "text/x-python",
   "name": "python",
   "nbconvert_exporter": "python",
   "pygments_lexer": "ipython3",
   "version": "3.12.4"
  }
 },
 "nbformat": 4,
 "nbformat_minor": 5
}
